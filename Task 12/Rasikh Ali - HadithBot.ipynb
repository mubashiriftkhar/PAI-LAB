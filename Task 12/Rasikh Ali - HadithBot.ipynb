{
 "cells": [
  {
   "cell_type": "markdown",
   "metadata": {},
   "source": [
    "<div class=\"alert alert-block alert-info\">\n",
    "    <h1> Libraries </h1>\n",
    "</div>"
   ]
  },
  {
   "cell_type": "code",
   "execution_count": 1,
   "metadata": {},
   "outputs": [
    {
     "name": "stderr",
     "output_type": "stream",
     "text": [
      "C:\\Users\\ABC\\anaconda3\\lib\\site-packages\\numpy\\_distributor_init.py:30: UserWarning: loaded more than 1 DLL from .libs:\n",
      "C:\\Users\\ABC\\anaconda3\\lib\\site-packages\\numpy\\.libs\\libopenblas.FB5AE2TYXYH2IJRDKGDGQ3XBKLKTF43H.gfortran-win_amd64.dll\n",
      "C:\\Users\\ABC\\anaconda3\\lib\\site-packages\\numpy\\.libs\\libopenblas64__v0.3.21-gcc_10_3_0.dll\n",
      "  warnings.warn(\"loaded more than 1 DLL from .libs:\"\n",
      "C:\\Users\\ABC\\anaconda3\\lib\\site-packages\\sentence_transformers\\cross_encoder\\CrossEncoder.py:11: TqdmExperimentalWarning: Using `tqdm.autonotebook.tqdm` in notebook mode. Use `tqdm.tqdm` instead to force console mode (e.g. in jupyter console)\n",
      "  from tqdm.autonotebook import tqdm, trange\n"
     ]
    }
   ],
   "source": [
    "# !pip install sentence-transformers\n",
    "# !pip install faiss-cpu\n",
    "# !pip install faiss-gpu\n",
    "\n",
    "import pandas as pd\n",
    "import glob\n",
    "\n",
    "import re\n",
    "\n",
    "from sentence_transformers import SentenceTransformer\n",
    "import numpy as np\n",
    "\n",
    "import faiss"
   ]
  },
  {
   "cell_type": "markdown",
   "metadata": {},
   "source": [
    "<div class=\"alert alert-block alert-info\">\n",
    "    <h1>Data Exploration and Preprocessing </h1>\n",
    "</div>\n",
    "\n",
    "<div class=\"alert alert-block alert-warning\">\n",
    "    <h4>Defining columns</h4>\n",
    "</div>"
   ]
  },
  {
   "cell_type": "code",
   "execution_count": 9,
   "metadata": {
    "scrolled": true
   },
   "outputs": [],
   "source": [
    "colnames = ['Chapter_Number', \n",
    "            'Chapter_English', \n",
    "            'Chapter_Arabic', \n",
    "            'Section_Number', \n",
    "            'Section_English', \n",
    "            'Section_Arabic', \n",
    "            'Hadith_number', \n",
    "            'English_Hadith', \n",
    "            'English_Isnad', \n",
    "            'English_Matn', \n",
    "            'Arabic_Hadith', \n",
    "            'Arabic_Isnad', \n",
    "            'Arabic_Matn', \n",
    "            'Arabic_Comment', \n",
    "            'English_Grade', \n",
    "            'Arabic_Grade']"
   ]
  },
  {
   "cell_type": "markdown",
   "metadata": {},
   "source": [
    "<div class=\"alert alert-block alert-warning\">\n",
    "    <h4>Loading Dataset</h4>\n",
    "</div>"
   ]
  },
  {
   "cell_type": "code",
   "execution_count": 10,
   "metadata": {},
   "outputs": [],
   "source": [
    "path = \"LK-Hadith-Corpus-master\"  \n",
    "book_filenames = sorted(glob.glob(path + '//**//*.csv', recursive=True))  # reading all CSV files in all books"
   ]
  },
  {
   "cell_type": "code",
   "execution_count": 11,
   "metadata": {},
   "outputs": [
    {
     "name": "stdout",
     "output_type": "stream",
     "text": [
      "Sample Data:\n",
      "Chapter_Number  Chapter_English Chapter_Arabic \n",
      "1               Purification (Kitab Al-Taharah) كتاب الطهارة   \n",
      "1               Purification (Kitab Al-Taharah) كتاب الطهارة   \n",
      "1               Purification (Kitab Al-Taharah) كتاب الطهارة   \n",
      "1               Purification (Kitab Al-Taharah) كتاب الطهارة   \n",
      "1               Purification (Kitab Al-Taharah) كتاب الطهارة   \n",
      "1               Purification (Kitab Al-Taharah) كتاب الطهارة   \n",
      "1               Purification (Kitab Al-Taharah) كتاب الطهارة   \n",
      "1               Purification (Kitab Al-Taharah) كتاب الطهارة   \n",
      "1               Purification (Kitab Al-Taharah) كتاب الطهارة   \n",
      "1               Purification (Kitab Al-Taharah) كتاب الطهارة   \n",
      "1               Purification (Kitab Al-Taharah) كتاب الطهارة   \n",
      "1               Purification (Kitab Al-Taharah) كتاب الطهارة   \n",
      "1               Purification (Kitab Al-Taharah) كتاب الطهارة   \n",
      "1               Purification (Kitab Al-Taharah) كتاب الطهارة   \n",
      "1               Purification (Kitab Al-Taharah) كتاب الطهارة   \n",
      "1               Purification (Kitab Al-Taharah) كتاب الطهارة   \n",
      "1               Purification (Kitab Al-Taharah) كتاب الطهارة   \n",
      "1               Purification (Kitab Al-Taharah) كتاب الطهارة   \n",
      "1               Purification (Kitab Al-Taharah) كتاب الطهارة   \n",
      "1               Purification (Kitab Al-Taharah) كتاب الطهارة   \n",
      "1               Purification (Kitab Al-Taharah) كتاب الطهارة   \n",
      "1               Purification (Kitab Al-Taharah) كتاب الطهارة   \n",
      "1               Purification (Kitab Al-Taharah) كتاب الطهارة   \n",
      "1               Purification (Kitab Al-Taharah) كتاب الطهارة   \n",
      "1               Purification (Kitab Al-Taharah) كتاب الطهارة   \n",
      "1               Purification (Kitab Al-Taharah) كتاب الطهارة   \n",
      "1               Purification (Kitab Al-Taharah) كتاب الطهارة   \n",
      "1               Purification (Kitab Al-Taharah) كتاب الطهارة   \n",
      "1               Purification (Kitab Al-Taharah) كتاب الطهارة   \n",
      "1               Purification (Kitab Al-Taharah) كتاب الطهارة   \n",
      "1               Purification (Kitab Al-Taharah) كتاب الطهارة   \n",
      "1               Purification (Kitab Al-Taharah) كتاب الطهارة   \n",
      "1               Purification (Kitab Al-Taharah) كتاب الطهارة   \n",
      "1               Purification (Kitab Al-Taharah) كتاب الطهارة   \n",
      "1               Purification (Kitab Al-Taharah) كتاب الطهارة   \n",
      "1               Purification (Kitab Al-Taharah) كتاب الطهارة   \n",
      "1               Purification (Kitab Al-Taharah) كتاب الطهارة   \n",
      "1               Purification (Kitab Al-Taharah) كتاب الطهارة   \n",
      "1               Purification (Kitab Al-Taharah) كتاب الطهارة   \n",
      "1               Purification (Kitab Al-Taharah) كتاب الطهارة   \n",
      "1               Purification (Kitab Al-Taharah) كتاب الطهارة   \n",
      "1               Purification (Kitab Al-Taharah) كتاب الطهارة   \n",
      "1               Purification (Kitab Al-Taharah) كتاب الطهارة   \n",
      "1               Purification (Kitab Al-Taharah) كتاب الطهارة   \n",
      "1               Purification (Kitab Al-Taharah) كتاب الطهارة   \n",
      "1               Purification (Kitab Al-Taharah) كتاب الطهارة   \n",
      "1               Purification (Kitab Al-Taharah) كتاب الطهارة   \n",
      "1               Purification (Kitab Al-Taharah) كتاب الطهارة   \n",
      "1               Purification (Kitab Al-Taharah) كتاب الطهارة   \n",
      "1               Purification (Kitab Al-Taharah) كتاب الطهارة   \n",
      "1               Purification (Kitab Al-Taharah) كتاب الطهارة   \n",
      "1               Purification (Kitab Al-Taharah) كتاب الطهارة   \n",
      "1               Purification (Kitab Al-Taharah) كتاب الطهارة   \n",
      "1               Purification (Kitab Al-Taharah) كتاب الطهارة   \n",
      "1               Purification (Kitab Al-Taharah) كتاب الطهارة   \n",
      "1               Purification (Kitab Al-Taharah) كتاب الطهارة   \n",
      "1               Purification (Kitab Al-Taharah) كتاب الطهارة   \n",
      "1               Purification (Kitab Al-Taharah) كتاب الطهارة   \n",
      "1               Purification (Kitab Al-Taharah) كتاب الطهارة   \n",
      "1               Purification (Kitab Al-Taharah) كتاب الطهارة   \n",
      "1               Purification (Kitab Al-Taharah) كتاب الطهارة   \n",
      "1               Purification (Kitab Al-Taharah) كتاب الطهارة   \n",
      "1               Purification (Kitab Al-Taharah) كتاب الطهارة   \n",
      "1               Purification (Kitab Al-Taharah) كتاب الطهارة   \n",
      "1               Purification (Kitab Al-Taharah) كتاب الطهارة   \n",
      "1               Purification (Kitab Al-Taharah) كتاب الطهارة   \n",
      "1               Purification (Kitab Al-Taharah) كتاب الطهارة   \n",
      "1               Purification (Kitab Al-Taharah) كتاب الطهارة   \n",
      "1               Purification (Kitab Al-Taharah) كتاب الطهارة   \n",
      "1               Purification (Kitab Al-Taharah) كتاب الطهارة   \n",
      "1               Purification (Kitab Al-Taharah) كتاب الطهارة   \n",
      "1               Purification (Kitab Al-Taharah) كتاب الطهارة   \n",
      "1               Purification (Kitab Al-Taharah) كتاب الطهارة   \n",
      "1               Purification (Kitab Al-Taharah) كتاب الطهارة   \n",
      "1               Purification (Kitab Al-Taharah) كتاب الطهارة   \n",
      "1               Purification (Kitab Al-Taharah) كتاب الطهارة   \n",
      "1               Purification (Kitab Al-Taharah) كتاب الطهارة   \n",
      "1               Purification (Kitab Al-Taharah) كتاب الطهارة   \n",
      "1               Purification (Kitab Al-Taharah) كتاب الطهارة   \n",
      "1               Purification (Kitab Al-Taharah) كتاب الطهارة   \n",
      "1               Purification (Kitab Al-Taharah) كتاب الطهارة   \n",
      "1               Purification (Kitab Al-Taharah) كتاب الطهارة   \n",
      "1               Purification (Kitab Al-Taharah) كتاب الطهارة   \n",
      "1               Purification (Kitab Al-Taharah) كتاب الطهارة   \n",
      "1               Purification (Kitab Al-Taharah) كتاب الطهارة   \n",
      "1               Purification (Kitab Al-Taharah) كتاب الطهارة   \n",
      "1               Purification (Kitab Al-Taharah) كتاب الطهارة   \n",
      "1               Purification (Kitab Al-Taharah) كتاب الطهارة   \n",
      "1               Purification (Kitab Al-Taharah) كتاب الطهارة   \n",
      "1               Purification (Kitab Al-Taharah) كتاب الطهارة   \n",
      "1               Purification (Kitab Al-Taharah) كتاب الطهارة   \n",
      "1               Purification (Kitab Al-Taharah) كتاب الطهارة   \n",
      "1               Purification (Kitab Al-Taharah) كتاب الطهارة   \n",
      "1               Purification (Kitab Al-Taharah) كتاب الطهارة   \n",
      "1               Purification (Kitab Al-Taharah) كتاب الطهارة   \n",
      "1               Purification (Kitab Al-Taharah) كتاب الطهارة   \n",
      "1               Purification (Kitab Al-Taharah) كتاب الطهارة   \n",
      "1               Purification (Kitab Al-Taharah) كتاب الطهارة   \n",
      "1               Purification (Kitab Al-Taharah) كتاب الطهارة   \n",
      "1               Purification (Kitab Al-Taharah) كتاب الطهارة   \n",
      "1               Purification (Kitab Al-Taharah) كتاب الطهارة   \n",
      "1               Purification (Kitab Al-Taharah) كتاب الطهارة   \n",
      "1               Purification (Kitab Al-Taharah) كتاب الطهارة   \n",
      "1               Purification (Kitab Al-Taharah) كتاب الطهارة   \n",
      "1               Purification (Kitab Al-Taharah) كتاب الطهارة   \n",
      "1               Purification (Kitab Al-Taharah) كتاب الطهارة   \n",
      "1               Purification (Kitab Al-Taharah) كتاب الطهارة   \n",
      "1               Purification (Kitab Al-Taharah) كتاب الطهارة   \n",
      "1               Purification (Kitab Al-Taharah) كتاب الطهارة   \n",
      "1               Purification (Kitab Al-Taharah) كتاب الطهارة   \n",
      "1               Purification (Kitab Al-Taharah) كتاب الطهارة   \n",
      "1               Purification (Kitab Al-Taharah) كتاب الطهارة   \n",
      "1               Purification (Kitab Al-Taharah) كتاب الطهارة   \n",
      "1               Purification (Kitab Al-Taharah) كتاب الطهارة   \n",
      "1               Purification (Kitab Al-Taharah) كتاب الطهارة   \n",
      "1               Purification (Kitab Al-Taharah) كتاب الطهارة   \n",
      "1               Purification (Kitab Al-Taharah) كتاب الطهارة   \n",
      "1               Purification (Kitab Al-Taharah) كتاب الطهارة   \n",
      "1               Purification (Kitab Al-Taharah) كتاب الطهارة   \n",
      "1               Purification (Kitab Al-Taharah) كتاب الطهارة   \n",
      "1               Purification (Kitab Al-Taharah) كتاب الطهارة   \n",
      "1               Purification (Kitab Al-Taharah) كتاب الطهارة   \n",
      "1               Purification (Kitab Al-Taharah) كتاب الطهارة   \n",
      "1               Purification (Kitab Al-Taharah) كتاب الطهارة   \n",
      "1               Purification (Kitab Al-Taharah) كتاب الطهارة   \n",
      "1               Purification (Kitab Al-Taharah) كتاب الطهارة   \n",
      "1               Purification (Kitab Al-Taharah) كتاب الطهارة   \n",
      "1               Purification (Kitab Al-Taharah) كتاب الطهارة   \n",
      "1               Purification (Kitab Al-Taharah) كتاب الطهارة   \n",
      "1               Purification (Kitab Al-Taharah) كتاب الطهارة   \n",
      "1               Purification (Kitab Al-Taharah) كتاب الطهارة   \n",
      "1               Purification (Kitab Al-Taharah) كتاب الطهارة   \n",
      "1               Purification (Kitab Al-Taharah) كتاب الطهارة   \n",
      "1               Purification (Kitab Al-Taharah) كتاب الطهارة   \n",
      "1               Purification (Kitab Al-Taharah) كتاب الطهارة   \n",
      "1               Purification (Kitab Al-Taharah) كتاب الطهارة   \n",
      "1               Purification (Kitab Al-Taharah) كتاب الطهارة   \n",
      "1               Purification (Kitab Al-Taharah) كتاب الطهارة   \n",
      "1               Purification (Kitab Al-Taharah) كتاب الطهارة   \n",
      "1               Purification (Kitab Al-Taharah) كتاب الطهارة   \n",
      "1               Purification (Kitab Al-Taharah) كتاب الطهارة   \n",
      "1               Purification (Kitab Al-Taharah) كتاب الطهارة   \n",
      "1               Purification (Kitab Al-Taharah) كتاب الطهارة   \n",
      "1               Purification (Kitab Al-Taharah) كتاب الطهارة   \n",
      "1               Purification (Kitab Al-Taharah) كتاب الطهارة   \n",
      "1               Purification (Kitab Al-Taharah) كتاب الطهارة   \n",
      "1               Purification (Kitab Al-Taharah) كتاب الطهارة   \n",
      "1               Purification (Kitab Al-Taharah) كتاب الطهارة   \n",
      "1               Purification (Kitab Al-Taharah) كتاب الطهارة   \n",
      "1               Purification (Kitab Al-Taharah) كتاب الطهارة   \n",
      "1               Purification (Kitab Al-Taharah) كتاب الطهارة   \n",
      "1               Purification (Kitab Al-Taharah) كتاب الطهارة   \n",
      "1               Purification (Kitab Al-Taharah) كتاب الطهارة   \n",
      "1               Purification (Kitab Al-Taharah) كتاب الطهارة   \n",
      "1               Purification (Kitab Al-Taharah) كتاب الطهارة   \n",
      "1               Purification (Kitab Al-Taharah) كتاب الطهارة   \n",
      "1               Purification (Kitab Al-Taharah) كتاب الطهارة   \n",
      "1               Purification (Kitab Al-Taharah) كتاب الطهارة   \n",
      "1               Purification (Kitab Al-Taharah) كتاب الطهارة   \n",
      "1               Purification (Kitab Al-Taharah) كتاب الطهارة   \n",
      "1               Purification (Kitab Al-Taharah) كتاب الطهارة   \n",
      "1               Purification (Kitab Al-Taharah) كتاب الطهارة   \n",
      "1               Purification (Kitab Al-Taharah) كتاب الطهارة   \n",
      "1               Purification (Kitab Al-Taharah) كتاب الطهارة   \n",
      "1               Purification (Kitab Al-Taharah) كتاب الطهارة   \n",
      "1               Purification (Kitab Al-Taharah) كتاب الطهارة   \n",
      "1               Purification (Kitab Al-Taharah) كتاب الطهارة   \n",
      "1               Purification (Kitab Al-Taharah) كتاب الطهارة   \n",
      "1               Purification (Kitab Al-Taharah) كتاب الطهارة   \n",
      "1               Purification (Kitab Al-Taharah) كتاب الطهارة   \n",
      "1               Purification (Kitab Al-Taharah) كتاب الطهارة   \n",
      "1               Purification (Kitab Al-Taharah) كتاب الطهارة   \n",
      "1               Purification (Kitab Al-Taharah) كتاب الطهارة   \n",
      "1               Purification (Kitab Al-Taharah) كتاب الطهارة   \n",
      "1               Purification (Kitab Al-Taharah) كتاب الطهارة   \n",
      "1               Purification (Kitab Al-Taharah) كتاب الطهارة   \n",
      "1               Purification (Kitab Al-Taharah) كتاب الطهارة   \n",
      "1               Purification (Kitab Al-Taharah) كتاب الطهارة   \n",
      "1               Purification (Kitab Al-Taharah) كتاب الطهارة   \n",
      "1               Purification (Kitab Al-Taharah) كتاب الطهارة   \n",
      "1               Purification (Kitab Al-Taharah) كتاب الطهارة   \n",
      "1               Purification (Kitab Al-Taharah) كتاب الطهارة   \n",
      "1               Purification (Kitab Al-Taharah) كتاب الطهارة   \n",
      "1               Purification (Kitab Al-Taharah) كتاب الطهارة   \n",
      "1               Purification (Kitab Al-Taharah) كتاب الطهارة   \n",
      "1               Purification (Kitab Al-Taharah) كتاب الطهارة   \n",
      "1               Purification (Kitab Al-Taharah) كتاب الطهارة   \n",
      "1               Purification (Kitab Al-Taharah) كتاب الطهارة   \n",
      "1               Purification (Kitab Al-Taharah) كتاب الطهارة   \n",
      "1               Purification (Kitab Al-Taharah) كتاب الطهارة   \n",
      "1               Purification (Kitab Al-Taharah) كتاب الطهارة   \n",
      "1               Purification (Kitab Al-Taharah) كتاب الطهارة   \n",
      "1               Purification (Kitab Al-Taharah) كتاب الطهارة   \n",
      "1               Purification (Kitab Al-Taharah) كتاب الطهارة   \n",
      "1               Purification (Kitab Al-Taharah) كتاب الطهارة   \n",
      "1               Purification (Kitab Al-Taharah) كتاب الطهارة   \n",
      "1               Purification (Kitab Al-Taharah) كتاب الطهارة   \n",
      "1               Purification (Kitab Al-Taharah) كتاب الطهارة   \n",
      "1               Purification (Kitab Al-Taharah) كتاب الطهارة   \n",
      "1               Purification (Kitab Al-Taharah) كتاب الطهارة   \n",
      "1               Purification (Kitab Al-Taharah) كتاب الطهارة   \n",
      "1               Purification (Kitab Al-Taharah) كتاب الطهارة   \n",
      "1               Purification (Kitab Al-Taharah) كتاب الطهارة   \n",
      "1               Purification (Kitab Al-Taharah) كتاب الطهارة   \n",
      "1               Purification (Kitab Al-Taharah) كتاب الطهارة   \n",
      "1               Purification (Kitab Al-Taharah) كتاب الطهارة   \n",
      "1               Purification (Kitab Al-Taharah) كتاب الطهارة   \n",
      "1               Purification (Kitab Al-Taharah) كتاب الطهارة   \n",
      "1               Purification (Kitab Al-Taharah) كتاب الطهارة   \n",
      "1               Purification (Kitab Al-Taharah) كتاب الطهارة   \n",
      "1               Purification (Kitab Al-Taharah) كتاب الطهارة   \n",
      "1               Purification (Kitab Al-Taharah) كتاب الطهارة   \n",
      "1               Purification (Kitab Al-Taharah) كتاب الطهارة   \n",
      "1               Purification (Kitab Al-Taharah) كتاب الطهارة   \n",
      "1               Purification (Kitab Al-Taharah) كتاب الطهارة   \n",
      "1               Purification (Kitab Al-Taharah) كتاب الطهارة   \n",
      "1               Purification (Kitab Al-Taharah) كتاب الطهارة   \n",
      "1               Purification (Kitab Al-Taharah) كتاب الطهارة   \n",
      "1               Purification (Kitab Al-Taharah) كتاب الطهارة   \n",
      "1               Purification (Kitab Al-Taharah) كتاب الطهارة   \n",
      "1               Purification (Kitab Al-Taharah) كتاب الطهارة   \n",
      "1               Purification (Kitab Al-Taharah) كتاب الطهارة   \n",
      "1               Purification (Kitab Al-Taharah) كتاب الطهارة   \n",
      "1               Purification (Kitab Al-Taharah) كتاب الطهارة   \n",
      "1               Purification (Kitab Al-Taharah) كتاب الطهارة   \n",
      "1               Purification (Kitab Al-Taharah) كتاب الطهارة   \n",
      "1               Purification (Kitab Al-Taharah) كتاب الطهارة   \n",
      "1               Purification (Kitab Al-Taharah) كتاب الطهارة   \n",
      "1               Purification (Kitab Al-Taharah) كتاب الطهارة   \n",
      "1               Purification (Kitab Al-Taharah) كتاب الطهارة   \n",
      "1               Purification (Kitab Al-Taharah) كتاب الطهارة   \n",
      "1               Purification (Kitab Al-Taharah) كتاب الطهارة   \n",
      "1               Purification (Kitab Al-Taharah) كتاب الطهارة   \n",
      "1               Purification (Kitab Al-Taharah) كتاب الطهارة   \n",
      "1               Purification (Kitab Al-Taharah) كتاب الطهارة   \n",
      "1               Purification (Kitab Al-Taharah) كتاب الطهارة   \n",
      "1               Purification (Kitab Al-Taharah) كتاب الطهارة   \n",
      "1               Purification (Kitab Al-Taharah) كتاب الطهارة   \n",
      "1               Purification (Kitab Al-Taharah) كتاب الطهارة   \n",
      "1               Purification (Kitab Al-Taharah) كتاب الطهارة   \n",
      "1               Purification (Kitab Al-Taharah) كتاب الطهارة   \n",
      "1               Purification (Kitab Al-Taharah) كتاب الطهارة   \n",
      "1               Purification (Kitab Al-Taharah) كتاب الطهارة   \n",
      "1               Purification (Kitab Al-Taharah) كتاب الطهارة   \n",
      "1               Purification (Kitab Al-Taharah) كتاب الطهارة   \n",
      "1               Purification (Kitab Al-Taharah) كتاب الطهارة   \n",
      "1               Purification (Kitab Al-Taharah) كتاب الطهارة   \n",
      "1               Purification (Kitab Al-Taharah) كتاب الطهارة   \n",
      "1               Purification (Kitab Al-Taharah) كتاب الطهارة   \n",
      "1               Purification (Kitab Al-Taharah) كتاب الطهارة   \n",
      "1               Purification (Kitab Al-Taharah) كتاب الطهارة   \n",
      "1               Purification (Kitab Al-Taharah) كتاب الطهارة   \n",
      "1               Purification (Kitab Al-Taharah) كتاب الطهارة   \n",
      "1               Purification (Kitab Al-Taharah) كتاب الطهارة   \n",
      "1               Purification (Kitab Al-Taharah) كتاب الطهارة   \n",
      "1               Purification (Kitab Al-Taharah) كتاب الطهارة   \n",
      "1               Purification (Kitab Al-Taharah) كتاب الطهارة   \n",
      "1               Purification (Kitab Al-Taharah) كتاب الطهارة   \n",
      "1               Purification (Kitab Al-Taharah) كتاب الطهارة   \n",
      "1               Purification (Kitab Al-Taharah) كتاب الطهارة   \n",
      "1               Purification (Kitab Al-Taharah) كتاب الطهارة   \n",
      "1               Purification (Kitab Al-Taharah) كتاب الطهارة   \n",
      "1               Purification (Kitab Al-Taharah) كتاب الطهارة   \n",
      "1               Purification (Kitab Al-Taharah) كتاب الطهارة   \n",
      "1               Purification (Kitab Al-Taharah) كتاب الطهارة   \n",
      "1               Purification (Kitab Al-Taharah) كتاب الطهارة   \n",
      "1               Purification (Kitab Al-Taharah) كتاب الطهارة   \n",
      "1               Purification (Kitab Al-Taharah) كتاب الطهارة   \n",
      "1               Purification (Kitab Al-Taharah) كتاب الطهارة   \n",
      "1               Purification (Kitab Al-Taharah) كتاب الطهارة   \n",
      "1               Purification (Kitab Al-Taharah) كتاب الطهارة   \n",
      "1               Purification (Kitab Al-Taharah) كتاب الطهارة   \n",
      "1               Purification (Kitab Al-Taharah) كتاب الطهارة   \n",
      "1               Purification (Kitab Al-Taharah) كتاب الطهارة   \n",
      "1               Purification (Kitab Al-Taharah) كتاب الطهارة   \n",
      "1               Purification (Kitab Al-Taharah) كتاب الطهارة   \n",
      "1               Purification (Kitab Al-Taharah) كتاب الطهارة   \n",
      "1               Purification (Kitab Al-Taharah) كتاب الطهارة   \n",
      "1               Purification (Kitab Al-Taharah) كتاب الطهارة   \n",
      "1               Purification (Kitab Al-Taharah) كتاب الطهارة   \n",
      "1               Purification (Kitab Al-Taharah) كتاب الطهارة   \n",
      "1               Purification (Kitab Al-Taharah) كتاب الطهارة   \n",
      "1               Purification (Kitab Al-Taharah) كتاب الطهارة   \n",
      "1               Purification (Kitab Al-Taharah) كتاب الطهارة   \n",
      "1               Purification (Kitab Al-Taharah) كتاب الطهارة   \n",
      "1               Purification (Kitab Al-Taharah) كتاب الطهارة   \n",
      "1               Purification (Kitab Al-Taharah) كتاب الطهارة   \n",
      "1               Purification (Kitab Al-Taharah) كتاب الطهارة   \n",
      "1               Purification (Kitab Al-Taharah) كتاب الطهارة   \n",
      "1               Purification (Kitab Al-Taharah) كتاب الطهارة   \n",
      "1               Purification (Kitab Al-Taharah) كتاب الطهارة   \n",
      "1               Purification (Kitab Al-Taharah) كتاب الطهارة   \n",
      "1               Purification (Kitab Al-Taharah) كتاب الطهارة   \n",
      "1               Purification (Kitab Al-Taharah) كتاب الطهارة   \n",
      "1               Purification (Kitab Al-Taharah) كتاب الطهارة   \n",
      "1               Purification (Kitab Al-Taharah) كتاب الطهارة   \n",
      "1               Purification (Kitab Al-Taharah) كتاب الطهارة   \n",
      "1               Purification (Kitab Al-Taharah) كتاب الطهارة   \n",
      "1               Purification (Kitab Al-Taharah) كتاب الطهارة   \n",
      "1               Purification (Kitab Al-Taharah) كتاب الطهارة   \n",
      "1               Purification (Kitab Al-Taharah) كتاب الطهارة   \n",
      "1               Purification (Kitab Al-Taharah) كتاب الطهارة   \n",
      "1               Purification (Kitab Al-Taharah) كتاب الطهارة   \n",
      "1               Purification (Kitab Al-Taharah) كتاب الطهارة   \n",
      "1               Purification (Kitab Al-Taharah) كتاب الطهارة   \n",
      "1               Purification (Kitab Al-Taharah) كتاب الطهارة   \n",
      "1               Purification (Kitab Al-Taharah) كتاب الطهارة   \n",
      "1               Purification (Kitab Al-Taharah) كتاب الطهارة   \n",
      "1               Purification (Kitab Al-Taharah) كتاب الطهارة   \n",
      "1               Purification (Kitab Al-Taharah) كتاب الطهارة   \n",
      "1               Purification (Kitab Al-Taharah) كتاب الطهارة   \n",
      "1               Purification (Kitab Al-Taharah) كتاب الطهارة   \n",
      "1               Purification (Kitab Al-Taharah) كتاب الطهارة   \n",
      "1               Purification (Kitab Al-Taharah) كتاب الطهارة   \n",
      "1               Purification (Kitab Al-Taharah) كتاب الطهارة   \n",
      "1               Purification (Kitab Al-Taharah) كتاب الطهارة   \n",
      "1               Purification (Kitab Al-Taharah) كتاب الطهارة   \n",
      "1               Purification (Kitab Al-Taharah) كتاب الطهارة   \n",
      "1               Purification (Kitab Al-Taharah) كتاب الطهارة   \n",
      "1               Purification (Kitab Al-Taharah) كتاب الطهارة   \n",
      "1               Purification (Kitab Al-Taharah) كتاب الطهارة   \n",
      "1               Purification (Kitab Al-Taharah) كتاب الطهارة   \n",
      "1               Purification (Kitab Al-Taharah) كتاب الطهارة   \n",
      "1               Purification (Kitab Al-Taharah) كتاب الطهارة   \n",
      "1               Purification (Kitab Al-Taharah) كتاب الطهارة   \n",
      "1               Purification (Kitab Al-Taharah) كتاب الطهارة   \n",
      "1               Purification (Kitab Al-Taharah) كتاب الطهارة   \n",
      "1               Purification (Kitab Al-Taharah) كتاب الطهارة   \n",
      "1               Purification (Kitab Al-Taharah) كتاب الطهارة   \n",
      "1               Purification (Kitab Al-Taharah) كتاب الطهارة   \n",
      "1               Purification (Kitab Al-Taharah) كتاب الطهارة   \n",
      "1               Purification (Kitab Al-Taharah) كتاب الطهارة   \n",
      "1               Purification (Kitab Al-Taharah) كتاب الطهارة   \n",
      "1               Purification (Kitab Al-Taharah) كتاب الطهارة   \n",
      "1               Purification (Kitab Al-Taharah) كتاب الطهارة   \n",
      "1               Purification (Kitab Al-Taharah) كتاب الطهارة   \n",
      "1               Purification (Kitab Al-Taharah) كتاب الطهارة   \n",
      "1               Purification (Kitab Al-Taharah) كتاب الطهارة   \n",
      "1               Purification (Kitab Al-Taharah) كتاب الطهارة   \n",
      "1               Purification (Kitab Al-Taharah) كتاب الطهارة   \n",
      "1               Purification (Kitab Al-Taharah) كتاب الطهارة   \n",
      "1               Purification (Kitab Al-Taharah) كتاب الطهارة   \n",
      "1               Purification (Kitab Al-Taharah) كتاب الطهارة   \n",
      "1               Purification (Kitab Al-Taharah) كتاب الطهارة   \n",
      "1               Purification (Kitab Al-Taharah) كتاب الطهارة   \n",
      "1               Purification (Kitab Al-Taharah) كتاب الطهارة   \n",
      "1               Purification (Kitab Al-Taharah) كتاب الطهارة   \n",
      "1               Purification (Kitab Al-Taharah) كتاب الطهارة   \n",
      "1               Purification (Kitab Al-Taharah) كتاب الطهارة   \n",
      "1               Purification (Kitab Al-Taharah) كتاب الطهارة   \n",
      "1               Purification (Kitab Al-Taharah) كتاب الطهارة   \n",
      "1               Purification (Kitab Al-Taharah) كتاب الطهارة   \n",
      "1               Purification (Kitab Al-Taharah) كتاب الطهارة   \n",
      "1               Purification (Kitab Al-Taharah) كتاب الطهارة   \n",
      "1               Purification (Kitab Al-Taharah) كتاب الطهارة   \n",
      "1               Purification (Kitab Al-Taharah) كتاب الطهارة   \n",
      "1               Purification (Kitab Al-Taharah) كتاب الطهارة   \n",
      "1               Purification (Kitab Al-Taharah) كتاب الطهارة   \n",
      "1               Purification (Kitab Al-Taharah) كتاب الطهارة   \n",
      "1               Purification (Kitab Al-Taharah) كتاب الطهارة   \n",
      "1               Purification (Kitab Al-Taharah) كتاب الطهارة   \n",
      "1               Purification (Kitab Al-Taharah) كتاب الطهارة   \n",
      "1               Purification (Kitab Al-Taharah) كتاب الطهارة   \n",
      "1               Purification (Kitab Al-Taharah) كتاب الطهارة   \n",
      "1               Purification (Kitab Al-Taharah) كتاب الطهارة   \n",
      "1               Purification (Kitab Al-Taharah) كتاب الطهارة   \n",
      "1               Purification (Kitab Al-Taharah) كتاب الطهارة   \n",
      "1               Purification (Kitab Al-Taharah) كتاب الطهارة   \n",
      "1               Purification (Kitab Al-Taharah) كتاب الطهارة   \n",
      "1               Purification (Kitab Al-Taharah) كتاب الطهارة   \n",
      "1               Purification (Kitab Al-Taharah) كتاب الطهارة   \n",
      "1               Purification (Kitab Al-Taharah) كتاب الطهارة   \n",
      "1               Purification (Kitab Al-Taharah) كتاب الطهارة   \n",
      "1               Purification (Kitab Al-Taharah) كتاب الطهارة   \n",
      "1               Purification (Kitab Al-Taharah) كتاب الطهارة   \n",
      "1               Purification (Kitab Al-Taharah) كتاب الطهارة   \n",
      "1               Purification (Kitab Al-Taharah) كتاب الطهارة   \n",
      "1               Purification (Kitab Al-Taharah) كتاب الطهارة   \n",
      "1               Purification (Kitab Al-Taharah) كتاب الطهارة   \n",
      "1               Purification (Kitab Al-Taharah) كتاب الطهارة   \n",
      "1               Purification (Kitab Al-Taharah) كتاب الطهارة   \n",
      "1               Purification (Kitab Al-Taharah) كتاب الطهارة   \n",
      "1               Purification (Kitab Al-Taharah) كتاب الطهارة   \n",
      "1               Purification (Kitab Al-Taharah) كتاب الطهارة   \n",
      "1               Purification (Kitab Al-Taharah) كتاب الطهارة   \n",
      "1               Purification (Kitab Al-Taharah) كتاب الطهارة   \n",
      "1               Purification (Kitab Al-Taharah) كتاب الطهارة   \n",
      "1               Purification (Kitab Al-Taharah) كتاب الطهارة   \n",
      "1               Purification (Kitab Al-Taharah) كتاب الطهارة   \n"
     ]
    }
   ],
   "source": [
    "import pandas as pd\n",
    "\n",
    "\n",
    "sample_file = pd.read_csv(book_filenames[0], names=colnames, skiprows=1)\n",
    "\n",
    "# Convert the DataFrame to a list of lists\n",
    "data = [sample_file.columns.tolist()] + sample_file.values.tolist()\n",
    "\n",
    "# Format and display the data using string formatting\n",
    "print(\"Sample Data:\")\n",
    "for row in data:\n",
    "    print(\"{:<15} {:<15} {:<15}\".format(*row))\n"
   ]
  },
  {
   "cell_type": "markdown",
   "metadata": {},
   "source": [
    "<div class=\"alert alert-block alert-warning\">\n",
    "    <h4>Displaying Dataset</h4>\n",
    "</div>"
   ]
  },
  {
   "cell_type": "code",
   "execution_count": 12,
   "metadata": {
    "scrolled": true
   },
   "outputs": [
    {
     "name": "stdout",
     "output_type": "stream",
     "text": [
      "Sample Data:\n",
      "         Chapter_Number                  Chapter_English Chapter_Arabic  \\\n",
      "AbuDaud               1  Purification (Kitab Al-Taharah)   كتاب الطهارة   \n",
      "AbuDaud               1  Purification (Kitab Al-Taharah)   كتاب الطهارة   \n",
      "AbuDaud               1  Purification (Kitab Al-Taharah)   كتاب الطهارة   \n",
      "AbuDaud               1  Purification (Kitab Al-Taharah)   كتاب الطهارة   \n",
      "AbuDaud               1  Purification (Kitab Al-Taharah)   كتاب الطهارة   \n",
      "\n",
      "         Section_Number                                    Section_English  \\\n",
      "AbuDaud               1                  Seclusion While Relieving Oneself   \n",
      "AbuDaud               1                  Seclusion While Relieving Oneself   \n",
      "AbuDaud               2           Choosing An Appropriate Place To Urinate   \n",
      "AbuDaud               3  What A Person Should Say When He Enters The Ar...   \n",
      "AbuDaud               3  What A Person Should Say When He Enters The Ar...   \n",
      "\n",
      "                                            Section_Arabic  Hadith_number  \\\n",
      "AbuDaud          باب التَّخَلِّي عِنْدَ قَضَاءِ الْحَاجَةِ              1   \n",
      "AbuDaud          باب التَّخَلِّي عِنْدَ قَضَاءِ الْحَاجَةِ              2   \n",
      "AbuDaud               باب الرَّجُلِ يَتَبَوَّأُ لِبَوْلِهِ              3   \n",
      "AbuDaud  باب مَا يَقُولُ الرَّجُلُ إِذَا دَخَلَ الْخَلاَءَ              4   \n",
      "AbuDaud  باب مَا يَقُولُ الرَّجُلُ إِذَا دَخَلَ الْخَلاَءَ              5   \n",
      "\n",
      "                                            English_Hadith  \\\n",
      "AbuDaud  Narrated Mughirah ibn Shu'bah: When the Prophe...   \n",
      "AbuDaud  Narrated Jabir ibn Abdullah: When the Prophet ...   \n",
      "AbuDaud  Abu al-Tayyah reported on the authority of a s...   \n",
      "AbuDaud  Anas b. Malik reported: When the Apostle of Al...   \n",
      "AbuDaud  Another tradition on the authority of Anas has...   \n",
      "\n",
      "                                             English_Isnad  \\\n",
      "AbuDaud                     Narrated Mughirah ibn Shu'bah:   \n",
      "AbuDaud                       Narrated Jabir ibn Abdullah:   \n",
      "AbuDaud  Abu al-Tayyah reported on the authority of a s...   \n",
      "AbuDaud                            Anas b. Malik reported:   \n",
      "AbuDaud    Another tradition on the authority of Anas has:   \n",
      "\n",
      "                                              English_Matn  \\\n",
      "AbuDaud  When the Prophet (ﷺ) went (outside) to relieve...   \n",
      "AbuDaud  When the Prophet (ﷺ) felt the need of relievin...   \n",
      "AbuDaud  When Abdullah ibn Abbas came to Basrah, people...   \n",
      "AbuDaud  When the Apostle of Allaah (sal Allahu alayhi ...   \n",
      "AbuDaud  \" O Allaah, I seek refuge in Thee.\"Shu'bah sai...   \n",
      "\n",
      "                                             Arabic_Hadith  \\\n",
      "AbuDaud  حَدَّثَنَا عَبْدُ اللَّهِ بْنُ مَسْلَمَةَ بْنِ...   \n",
      "AbuDaud  حَدَّثَنَا مُسَدَّدُ بْنُ مُسَرْهَدٍ، حَدَّثَن...   \n",
      "AbuDaud  حَدَّثَنَا مُوسَى بْنُ إِسْمَاعِيلَ، حَدَّثَنَ...   \n",
      "AbuDaud  حَدَّثَنَا مُسَدَّدُ بْنُ مُسَرْهَدٍ، حَدَّثَن...   \n",
      "AbuDaud  حَدَّثَنَا الْحَسَنُ بْنُ عَمْرٍو، - يَعْنِي ا...   \n",
      "\n",
      "                                              Arabic_Isnad  \\\n",
      "AbuDaud  حَدَّثَنَا عَبْدُ اللَّهِ بْنُ مَسْلَمَةَ بْنِ...   \n",
      "AbuDaud  حَدَّثَنَا مُسَدَّدُ بْنُ مُسَرْهَدٍ، حَدَّثَن...   \n",
      "AbuDaud  حَدَّثَنَا مُوسَى بْنُ إِسْمَاعِيلَ، حَدَّثَنَ...   \n",
      "AbuDaud  حَدَّثَنَا مُسَدَّدُ بْنُ مُسَرْهَدٍ، حَدَّثَن...   \n",
      "AbuDaud  حَدَّثَنَا الْحَسَنُ بْنُ عَمْرٍو، يَعْنِي الس...   \n",
      "\n",
      "                                               Arabic_Matn  Arabic_Comment  \\\n",
      "AbuDaud  أَنَّ النَّبِيَّ صلى الله عليه وسلم كَانَ إِذَ...             NaN   \n",
      "AbuDaud  أَنَّ النَّبِيَّ صلى الله عليه وسلم كَانَ إِذَ...             NaN   \n",
      "AbuDaud  قَالَ لَمَّا قَدِمَ عَبْدُ اللَّهِ بْنُ عَبَّا...             NaN   \n",
      "AbuDaud  كَانَ رَسُولُ اللَّهِ صلى الله عليه وسلم إِذَا...             NaN   \n",
      "AbuDaud  بِهَذَا الْحَدِيثِ قَالَ اللَّهُمَّ إِنِّي أَع...             NaN   \n",
      "\n",
      "             English_Grade Arabic_Grade  \n",
      "AbuDaud        Hasan Sahih     حسن صحيح  \n",
      "AbuDaud  Sahih - Authentic         صحيح  \n",
      "AbuDaud        Daif - Weak         ضعيف  \n",
      "AbuDaud  Sahih - Authentic         صحيح  \n",
      "AbuDaud              Shadh          شاذ  \n"
     ]
    }
   ],
   "source": [
    "sample_file = pd.read_csv(book_filenames[0], names=colnames, skiprows=1)\n",
    "print(\"Sample Data:\")\n",
    "print(sample_file.head())"
   ]
  },
  {
   "cell_type": "markdown",
   "metadata": {},
   "source": [
    "<div class=\"alert alert-block alert-warning\">\n",
    "    <h4>Check for Missing Values</h4>\n",
    "</div>"
   ]
  },
  {
   "cell_type": "code",
   "execution_count": 13,
   "metadata": {},
   "outputs": [
    {
     "name": "stdout",
     "output_type": "stream",
     "text": [
      "\n",
      "Missing Values:\n",
      "Chapter_Number       0\n",
      "Chapter_English      0\n",
      "Chapter_Arabic       0\n",
      "Section_Number       0\n",
      "Section_English      0\n",
      "Section_Arabic       0\n",
      "Hadith_number        0\n",
      "English_Hadith       0\n",
      "English_Isnad        0\n",
      "English_Matn         0\n",
      "Arabic_Hadith        0\n",
      "Arabic_Isnad         0\n",
      "Arabic_Matn          1\n",
      "Arabic_Comment     389\n",
      "English_Grade       20\n",
      "Arabic_Grade         0\n",
      "dtype: int64\n"
     ]
    }
   ],
   "source": [
    "print(\"\\nMissing Values:\")\n",
    "print(sample_file.isnull().sum())"
   ]
  },
  {
   "cell_type": "markdown",
   "metadata": {},
   "source": [
    "<div class=\"alert alert-block alert-warning\">\n",
    "    <h4>Clean the Dataset</h4>\n",
    "</div>"
   ]
  },
  {
   "cell_type": "code",
   "execution_count": 14,
   "metadata": {},
   "outputs": [],
   "source": [
    "def clean_text(text):\n",
    "    # removing special characters, digits, etc.\n",
    "    if isinstance(text, str):\n",
    "        text = re.sub(r'[^A-Za-z\\s]', '', text)\n",
    "        text = text.lower()\n",
    "    else:\n",
    "        text = ''\n",
    "    return text"
   ]
  },
  {
   "cell_type": "code",
   "execution_count": 8,
   "metadata": {},
   "outputs": [],
   "source": [
    "all_hadiths = []\n",
    "\n",
    "for book_filename in book_filenames:\n",
    "    data = pd.read_csv(book_filename, names=colnames, skiprows=1)\n",
    "    \n",
    "    data['cleaned_english_hadith'] = data['English_Hadith'].apply(lambda x: str(x) if pd.notnull(x) else \"\")\n",
    "    \n",
    "    all_hadiths.extend(data['cleaned_english_hadith'].tolist())"
   ]
  },
  {
   "cell_type": "code",
   "execution_count": 9,
   "metadata": {},
   "outputs": [],
   "source": [
    "hadith_df = pd.DataFrame({\n",
    "    'Hadith': all_hadiths\n",
    "})"
   ]
  },
  {
   "cell_type": "code",
   "execution_count": null,
   "metadata": {},
   "outputs": [],
   "source": []
  },
  {
   "cell_type": "markdown",
   "metadata": {},
   "source": [
    "# Something else"
   ]
  },
  {
   "cell_type": "code",
   "execution_count": 3,
   "metadata": {},
   "outputs": [],
   "source": [
    "# import os\n",
    "# path = \"LK-Hadith-Corpus-master\"  \n",
    "\n",
    "# # Get all CSV files from all folders\n",
    "# book_filenames = sorted(glob.glob(path + '//**//*.csv', recursive=True))\n",
    "\n",
    "# # Iterate over each CSV file\n",
    "# for file in book_filenames:\n",
    "#     # Extract the book name from the folder name (assuming the folder name is the book name)\n",
    "#     book_name = os.path.basename(os.path.dirname(file))\n",
    "# #     print(book_name)\n",
    "#     # Read the CSV file into a DataFrame\n",
    "#     df = pd.read_csv(file)\n",
    "    \n",
    "#     # Insert the book name as the first column\n",
    "#     df.insert(0, 'Book_Name', book_name)\n",
    "    \n",
    "#     # Save the modified DataFrame back to the original file (or to a new file if you prefer)\n",
    "#     df.to_csv(file, index=False)"
   ]
  },
  {
   "cell_type": "code",
   "execution_count": 24,
   "metadata": {},
   "outputs": [],
   "source": [
    "colnames = ['Book_Name',\n",
    "            'Chapter_Number', \n",
    "            'Chapter_English', \n",
    "            'Chapter_Arabic', \n",
    "            'Section_Number', \n",
    "            'Section_English', \n",
    "            'Section_Arabic', \n",
    "            'Hadith_number', \n",
    "            'English_Hadith', \n",
    "            'English_Isnad', \n",
    "            'English_Matn', \n",
    "            'Arabic_Hadith', \n",
    "            'Arabic_Isnad', \n",
    "            'Arabic_Matn', \n",
    "            'Arabic_Comment', \n",
    "            'English_Grade', \n",
    "            'Arabic_Grade']"
   ]
  },
  {
   "cell_type": "markdown",
   "metadata": {},
   "source": [
    "# ENGLISH"
   ]
  },
  {
   "cell_type": "code",
   "execution_count": null,
   "metadata": {},
   "outputs": [],
   "source": [
    "all_hadiths = []\n",
    "\n",
    "for book_filename in book_filenames:\n",
    "    book_name = os.path.basename(os.path.dirname(book_filename))  # Extract book name from the directory\n",
    "\n",
    "    data = pd.read_csv(book_filename, names=colnames, skiprows=1)\n",
    "    \n",
    "    # Replace the 'Book_Name' column with the extracted book name\n",
    "    data['Book_Name'] = book_name \n",
    "\n",
    "    print(f\"Processing: {book_filename} | Extracted Book Name: {book_name}\")\n",
    "    \n",
    "    data['cleaned_english_hadith'] = data['English_Hadith'].apply(lambda x: str(x) if pd.notnull(x) else \"\")\n",
    "    \n",
    "    data = data[data['cleaned_english_hadith'] != \"\"]\n",
    "    \n",
    "    all_hadiths.extend(data[['Book_Name',\n",
    "                             'Chapter_Number', \n",
    "                             'Section_Number', \n",
    "                             'Hadith_number', \n",
    "                             'cleaned_english_hadith', \n",
    "                             'English_Grade']].values.tolist())"
   ]
  },
  {
   "cell_type": "code",
   "execution_count": 26,
   "metadata": {},
   "outputs": [],
   "source": [
    "hadith_df = pd.DataFrame(all_hadiths, columns=['Book_Name',\n",
    "                                               'Chapter_Number', \n",
    "                                               'Section_Number', \n",
    "                                               'Hadith_number', \n",
    "                                               'Hadith', \n",
    "                                               'English_Grade'])"
   ]
  },
  {
   "cell_type": "code",
   "execution_count": 27,
   "metadata": {},
   "outputs": [],
   "source": [
    "hadith_df = hadith_df[hadith_df['Hadith'] != \"\"]"
   ]
  },
  {
   "cell_type": "code",
   "execution_count": 29,
   "metadata": {},
   "outputs": [],
   "source": [
    "hadith_df.to_csv('cleaned_hadith_data_english.csv', index=False)"
   ]
  },
  {
   "cell_type": "markdown",
   "metadata": {},
   "source": [
    "# ARABIC"
   ]
  },
  {
   "cell_type": "code",
   "execution_count": 30,
   "metadata": {},
   "outputs": [],
   "source": [
    "all_hadiths = []\n",
    "\n",
    "for book_filename in book_filenames:\n",
    "    data = pd.read_csv(book_filename, names=colnames, skiprows=1)\n",
    "    \n",
    "    data['cleaned_arabic_hadith'] = data['Arabic_Hadith'].apply(lambda x: str(x) if pd.notnull(x) else \"\")\n",
    "    \n",
    "    data = data[data['cleaned_arabic_hadith'] != \"\"]\n",
    "    \n",
    "    all_hadiths.extend(data[['Book_Name',\n",
    "                             'Chapter_Number', \n",
    "                             'Section_Number', \n",
    "                             'Hadith_number', \n",
    "                             'cleaned_arabic_hadith', \n",
    "                             'Arabic_Grade']].values.tolist())"
   ]
  },
  {
   "cell_type": "code",
   "execution_count": 31,
   "metadata": {},
   "outputs": [],
   "source": [
    "hadith_df = pd.DataFrame(all_hadiths, columns=['Book_Name',\n",
    "                                               'Chapter_Number', \n",
    "                                               'Section_Number', \n",
    "                                               'Hadith_number', \n",
    "                                               'Hadith', \n",
    "                                               'Arabic_Grade'])"
   ]
  },
  {
   "cell_type": "code",
   "execution_count": 32,
   "metadata": {},
   "outputs": [],
   "source": [
    "hadith_df = hadith_df[hadith_df['Hadith'] != \"\"]"
   ]
  },
  {
   "cell_type": "code",
   "execution_count": 33,
   "metadata": {},
   "outputs": [],
   "source": [
    "hadith_df.to_csv('cleaned_hadith_data_arabic.csv', index=False)"
   ]
  },
  {
   "cell_type": "code",
   "execution_count": null,
   "metadata": {},
   "outputs": [],
   "source": []
  },
  {
   "cell_type": "markdown",
   "metadata": {},
   "source": [
    "<div class=\"alert alert-block alert-warning\">\n",
    "    <h4>Dropping empty rows from the Dataset</h4>\n",
    "</div>"
   ]
  },
  {
   "cell_type": "code",
   "execution_count": 10,
   "metadata": {},
   "outputs": [],
   "source": [
    "hadith_df = hadith_df[hadith_df['Hadith'] != \"\"]"
   ]
  },
  {
   "cell_type": "markdown",
   "metadata": {},
   "source": [
    "<div class=\"alert alert-block alert-success\">\n",
    "    <h4>Saving Cleaned Dataset</h4>\n",
    "</div>"
   ]
  },
  {
   "cell_type": "code",
   "execution_count": 11,
   "metadata": {},
   "outputs": [],
   "source": [
    "hadith_df.to_csv('cleaned_hadith_data.csv', index=False)"
   ]
  },
  {
   "cell_type": "markdown",
   "metadata": {},
   "source": [
    "<div class=\"alert alert-block alert-info\">\n",
    "    <h1>Vectorization and Embedding Generation</h1>\n",
    "</div>"
   ]
  },
  {
   "cell_type": "markdown",
   "metadata": {},
   "source": [
    "<div class=\"alert alert-block alert-success\">\n",
    "    <h4>Loading Cleaned Dataset</h4>\n",
    "</div>"
   ]
  },
  {
   "cell_type": "code",
   "execution_count": 34,
   "metadata": {},
   "outputs": [],
   "source": [
    "hadith_df_en = pd.read_csv('cleaned_hadith_data_english.csv')\n",
    "hadith_df_ar = pd.read_csv('cleaned_hadith_data_arabic.csv')"
   ]
  },
  {
   "cell_type": "code",
   "execution_count": 37,
   "metadata": {},
   "outputs": [
    {
     "data": {
      "text/html": [
       "<div>\n",
       "<style scoped>\n",
       "    .dataframe tbody tr th:only-of-type {\n",
       "        vertical-align: middle;\n",
       "    }\n",
       "\n",
       "    .dataframe tbody tr th {\n",
       "        vertical-align: top;\n",
       "    }\n",
       "\n",
       "    .dataframe thead th {\n",
       "        text-align: right;\n",
       "    }\n",
       "</style>\n",
       "<table border=\"1\" class=\"dataframe\">\n",
       "  <thead>\n",
       "    <tr style=\"text-align: right;\">\n",
       "      <th></th>\n",
       "      <th>Book_Name</th>\n",
       "      <th>Chapter_Number</th>\n",
       "      <th>Section_Number</th>\n",
       "      <th>Hadith_number</th>\n",
       "      <th>Hadith</th>\n",
       "      <th>English_Grade</th>\n",
       "    </tr>\n",
       "  </thead>\n",
       "  <tbody>\n",
       "    <tr>\n",
       "      <th>0</th>\n",
       "      <td>AbuDaud</td>\n",
       "      <td>1.0</td>\n",
       "      <td>1</td>\n",
       "      <td>1</td>\n",
       "      <td>Narrated Mughirah ibn Shu'bah: When the Prophe...</td>\n",
       "      <td>Hasan Sahih</td>\n",
       "    </tr>\n",
       "    <tr>\n",
       "      <th>1</th>\n",
       "      <td>AbuDaud</td>\n",
       "      <td>1.0</td>\n",
       "      <td>1</td>\n",
       "      <td>2</td>\n",
       "      <td>Narrated Jabir ibn Abdullah: When the Prophet ...</td>\n",
       "      <td>Sahih - Authentic</td>\n",
       "    </tr>\n",
       "    <tr>\n",
       "      <th>2</th>\n",
       "      <td>AbuDaud</td>\n",
       "      <td>1.0</td>\n",
       "      <td>2</td>\n",
       "      <td>3</td>\n",
       "      <td>Abu al-Tayyah reported on the authority of a s...</td>\n",
       "      <td>Daif - Weak</td>\n",
       "    </tr>\n",
       "    <tr>\n",
       "      <th>3</th>\n",
       "      <td>AbuDaud</td>\n",
       "      <td>1.0</td>\n",
       "      <td>3</td>\n",
       "      <td>4</td>\n",
       "      <td>Anas b. Malik reported: When the Apostle of Al...</td>\n",
       "      <td>Sahih - Authentic</td>\n",
       "    </tr>\n",
       "    <tr>\n",
       "      <th>4</th>\n",
       "      <td>AbuDaud</td>\n",
       "      <td>1.0</td>\n",
       "      <td>3</td>\n",
       "      <td>5</td>\n",
       "      <td>Another tradition on the authority of Anas has...</td>\n",
       "      <td>Shadh</td>\n",
       "    </tr>\n",
       "  </tbody>\n",
       "</table>\n",
       "</div>"
      ],
      "text/plain": [
       "  Book_Name  Chapter_Number Section_Number Hadith_number  \\\n",
       "0   AbuDaud             1.0              1             1   \n",
       "1   AbuDaud             1.0              1             2   \n",
       "2   AbuDaud             1.0              2             3   \n",
       "3   AbuDaud             1.0              3             4   \n",
       "4   AbuDaud             1.0              3             5   \n",
       "\n",
       "                                              Hadith      English_Grade  \n",
       "0  Narrated Mughirah ibn Shu'bah: When the Prophe...        Hasan Sahih  \n",
       "1  Narrated Jabir ibn Abdullah: When the Prophet ...  Sahih - Authentic  \n",
       "2  Abu al-Tayyah reported on the authority of a s...        Daif - Weak  \n",
       "3  Anas b. Malik reported: When the Apostle of Al...  Sahih - Authentic  \n",
       "4  Another tradition on the authority of Anas has...              Shadh  "
      ]
     },
     "execution_count": 37,
     "metadata": {},
     "output_type": "execute_result"
    }
   ],
   "source": [
    "hadith_df_en.head()"
   ]
  },
  {
   "cell_type": "code",
   "execution_count": 38,
   "metadata": {},
   "outputs": [
    {
     "data": {
      "text/html": [
       "<div>\n",
       "<style scoped>\n",
       "    .dataframe tbody tr th:only-of-type {\n",
       "        vertical-align: middle;\n",
       "    }\n",
       "\n",
       "    .dataframe tbody tr th {\n",
       "        vertical-align: top;\n",
       "    }\n",
       "\n",
       "    .dataframe thead th {\n",
       "        text-align: right;\n",
       "    }\n",
       "</style>\n",
       "<table border=\"1\" class=\"dataframe\">\n",
       "  <thead>\n",
       "    <tr style=\"text-align: right;\">\n",
       "      <th></th>\n",
       "      <th>Book_Name</th>\n",
       "      <th>Chapter_Number</th>\n",
       "      <th>Section_Number</th>\n",
       "      <th>Hadith_number</th>\n",
       "      <th>Hadith</th>\n",
       "      <th>Arabic_Grade</th>\n",
       "    </tr>\n",
       "  </thead>\n",
       "  <tbody>\n",
       "    <tr>\n",
       "      <th>0</th>\n",
       "      <td>AbuDaud</td>\n",
       "      <td>1.0</td>\n",
       "      <td>1</td>\n",
       "      <td>1</td>\n",
       "      <td>حَدَّثَنَا عَبْدُ اللَّهِ بْنُ مَسْلَمَةَ بْنِ...</td>\n",
       "      <td>حسن صحيح</td>\n",
       "    </tr>\n",
       "    <tr>\n",
       "      <th>1</th>\n",
       "      <td>AbuDaud</td>\n",
       "      <td>1.0</td>\n",
       "      <td>1</td>\n",
       "      <td>2</td>\n",
       "      <td>حَدَّثَنَا مُسَدَّدُ بْنُ مُسَرْهَدٍ، حَدَّثَن...</td>\n",
       "      <td>صحيح</td>\n",
       "    </tr>\n",
       "    <tr>\n",
       "      <th>2</th>\n",
       "      <td>AbuDaud</td>\n",
       "      <td>1.0</td>\n",
       "      <td>2</td>\n",
       "      <td>3</td>\n",
       "      <td>حَدَّثَنَا مُوسَى بْنُ إِسْمَاعِيلَ، حَدَّثَنَ...</td>\n",
       "      <td>ضعيف</td>\n",
       "    </tr>\n",
       "    <tr>\n",
       "      <th>3</th>\n",
       "      <td>AbuDaud</td>\n",
       "      <td>1.0</td>\n",
       "      <td>3</td>\n",
       "      <td>4</td>\n",
       "      <td>حَدَّثَنَا مُسَدَّدُ بْنُ مُسَرْهَدٍ، حَدَّثَن...</td>\n",
       "      <td>صحيح</td>\n",
       "    </tr>\n",
       "    <tr>\n",
       "      <th>4</th>\n",
       "      <td>AbuDaud</td>\n",
       "      <td>1.0</td>\n",
       "      <td>3</td>\n",
       "      <td>5</td>\n",
       "      <td>حَدَّثَنَا الْحَسَنُ بْنُ عَمْرٍو، - يَعْنِي ا...</td>\n",
       "      <td>شاذ</td>\n",
       "    </tr>\n",
       "  </tbody>\n",
       "</table>\n",
       "</div>"
      ],
      "text/plain": [
       "  Book_Name  Chapter_Number Section_Number Hadith_number  \\\n",
       "0   AbuDaud             1.0              1             1   \n",
       "1   AbuDaud             1.0              1             2   \n",
       "2   AbuDaud             1.0              2             3   \n",
       "3   AbuDaud             1.0              3             4   \n",
       "4   AbuDaud             1.0              3             5   \n",
       "\n",
       "                                              Hadith Arabic_Grade  \n",
       "0  حَدَّثَنَا عَبْدُ اللَّهِ بْنُ مَسْلَمَةَ بْنِ...     حسن صحيح  \n",
       "1  حَدَّثَنَا مُسَدَّدُ بْنُ مُسَرْهَدٍ، حَدَّثَن...         صحيح  \n",
       "2  حَدَّثَنَا مُوسَى بْنُ إِسْمَاعِيلَ، حَدَّثَنَ...         ضعيف  \n",
       "3  حَدَّثَنَا مُسَدَّدُ بْنُ مُسَرْهَدٍ، حَدَّثَن...         صحيح  \n",
       "4  حَدَّثَنَا الْحَسَنُ بْنُ عَمْرٍو، - يَعْنِي ا...          شاذ  "
      ]
     },
     "execution_count": 38,
     "metadata": {},
     "output_type": "execute_result"
    }
   ],
   "source": [
    "hadith_df_ar.head()"
   ]
  },
  {
   "cell_type": "code",
   "execution_count": 13,
   "metadata": {},
   "outputs": [],
   "source": [
    "hadith_df = pd.read_csv('cleaned_hadith_data_v2.csv')"
   ]
  },
  {
   "cell_type": "markdown",
   "metadata": {},
   "source": [
    "<div class=\"alert alert-block alert-warning\">\n",
    "    <h4>Initialize Sentence Transformer (LLM Model)</h4>\n",
    "    <p>SentenceTransformer makes it easy to generate embeddings for sentences, paragraphs, or entire documents using pre-trained transformer models like BERT, RoBERTa, and others. These embeddings are dense vector representations that capture the semantic meaning of the text, allowing for tasks like similarity search, clustering, classification, and more.</p>\n",
    "</div>"
   ]
  },
  {
   "cell_type": "code",
   "execution_count": 36,
   "metadata": {},
   "outputs": [
    {
     "name": "stderr",
     "output_type": "stream",
     "text": [
      "No sentence-transformers model found with name bert-base-multilingual-cased. Creating a new one with mean pooling.\n"
     ]
    },
    {
     "data": {
      "application/vnd.jupyter.widget-view+json": {
       "model_id": "e97b281f4b63477c9af5de43c832c4c8",
       "version_major": 2,
       "version_minor": 0
      },
      "text/plain": [
       "config.json:   0%|          | 0.00/625 [00:00<?, ?B/s]"
      ]
     },
     "metadata": {},
     "output_type": "display_data"
    },
    {
     "data": {
      "application/vnd.jupyter.widget-view+json": {
       "model_id": "483b2fba2c854c65b757e861d611a6cf",
       "version_major": 2,
       "version_minor": 0
      },
      "text/plain": [
       "model.safetensors:   0%|          | 0.00/714M [00:00<?, ?B/s]"
      ]
     },
     "metadata": {},
     "output_type": "display_data"
    },
    {
     "name": "stderr",
     "output_type": "stream",
     "text": [
      "A parameter name that contains `beta` will be renamed internally to `bias`. Please use a different name to suppress this warning.\n",
      "A parameter name that contains `gamma` will be renamed internally to `weight`. Please use a different name to suppress this warning.\n",
      "A parameter name that contains `beta` will be renamed internally to `bias`. Please use a different name to suppress this warning.\n",
      "A parameter name that contains `gamma` will be renamed internally to `weight`. Please use a different name to suppress this warning.\n",
      "A parameter name that contains `beta` will be renamed internally to `bias`. Please use a different name to suppress this warning.\n",
      "A parameter name that contains `gamma` will be renamed internally to `weight`. Please use a different name to suppress this warning.\n",
      "A parameter name that contains `beta` will be renamed internally to `bias`. Please use a different name to suppress this warning.\n",
      "A parameter name that contains `gamma` will be renamed internally to `weight`. Please use a different name to suppress this warning.\n",
      "A parameter name that contains `beta` will be renamed internally to `bias`. Please use a different name to suppress this warning.\n",
      "A parameter name that contains `gamma` will be renamed internally to `weight`. Please use a different name to suppress this warning.\n",
      "A parameter name that contains `beta` will be renamed internally to `bias`. Please use a different name to suppress this warning.\n",
      "A parameter name that contains `gamma` will be renamed internally to `weight`. Please use a different name to suppress this warning.\n",
      "A parameter name that contains `beta` will be renamed internally to `bias`. Please use a different name to suppress this warning.\n",
      "A parameter name that contains `gamma` will be renamed internally to `weight`. Please use a different name to suppress this warning.\n",
      "A parameter name that contains `beta` will be renamed internally to `bias`. Please use a different name to suppress this warning.\n",
      "A parameter name that contains `gamma` will be renamed internally to `weight`. Please use a different name to suppress this warning.\n",
      "A parameter name that contains `beta` will be renamed internally to `bias`. Please use a different name to suppress this warning.\n",
      "A parameter name that contains `gamma` will be renamed internally to `weight`. Please use a different name to suppress this warning.\n",
      "A parameter name that contains `beta` will be renamed internally to `bias`. Please use a different name to suppress this warning.\n",
      "A parameter name that contains `gamma` will be renamed internally to `weight`. Please use a different name to suppress this warning.\n",
      "A parameter name that contains `beta` will be renamed internally to `bias`. Please use a different name to suppress this warning.\n",
      "A parameter name that contains `gamma` will be renamed internally to `weight`. Please use a different name to suppress this warning.\n",
      "A parameter name that contains `beta` will be renamed internally to `bias`. Please use a different name to suppress this warning.\n",
      "A parameter name that contains `gamma` will be renamed internally to `weight`. Please use a different name to suppress this warning.\n",
      "A parameter name that contains `beta` will be renamed internally to `bias`. Please use a different name to suppress this warning.\n",
      "A parameter name that contains `gamma` will be renamed internally to `weight`. Please use a different name to suppress this warning.\n",
      "A parameter name that contains `beta` will be renamed internally to `bias`. Please use a different name to suppress this warning.\n",
      "A parameter name that contains `gamma` will be renamed internally to `weight`. Please use a different name to suppress this warning.\n",
      "A parameter name that contains `beta` will be renamed internally to `bias`. Please use a different name to suppress this warning.\n",
      "A parameter name that contains `gamma` will be renamed internally to `weight`. Please use a different name to suppress this warning.\n",
      "A parameter name that contains `beta` will be renamed internally to `bias`. Please use a different name to suppress this warning.\n",
      "A parameter name that contains `gamma` will be renamed internally to `weight`. Please use a different name to suppress this warning.\n",
      "A parameter name that contains `beta` will be renamed internally to `bias`. Please use a different name to suppress this warning.\n",
      "A parameter name that contains `gamma` will be renamed internally to `weight`. Please use a different name to suppress this warning.\n",
      "A parameter name that contains `beta` will be renamed internally to `bias`. Please use a different name to suppress this warning.\n",
      "A parameter name that contains `gamma` will be renamed internally to `weight`. Please use a different name to suppress this warning.\n",
      "A parameter name that contains `beta` will be renamed internally to `bias`. Please use a different name to suppress this warning.\n",
      "A parameter name that contains `gamma` will be renamed internally to `weight`. Please use a different name to suppress this warning.\n",
      "A parameter name that contains `beta` will be renamed internally to `bias`. Please use a different name to suppress this warning.\n",
      "A parameter name that contains `gamma` will be renamed internally to `weight`. Please use a different name to suppress this warning.\n",
      "A parameter name that contains `beta` will be renamed internally to `bias`. Please use a different name to suppress this warning.\n",
      "A parameter name that contains `gamma` will be renamed internally to `weight`. Please use a different name to suppress this warning.\n",
      "A parameter name that contains `beta` will be renamed internally to `bias`. Please use a different name to suppress this warning.\n",
      "A parameter name that contains `gamma` will be renamed internally to `weight`. Please use a different name to suppress this warning.\n",
      "A parameter name that contains `beta` will be renamed internally to `bias`. Please use a different name to suppress this warning.\n",
      "A parameter name that contains `gamma` will be renamed internally to `weight`. Please use a different name to suppress this warning.\n",
      "A parameter name that contains `beta` will be renamed internally to `bias`. Please use a different name to suppress this warning.\n",
      "A parameter name that contains `gamma` will be renamed internally to `weight`. Please use a different name to suppress this warning.\n",
      "A parameter name that contains `beta` will be renamed internally to `bias`. Please use a different name to suppress this warning.\n",
      "A parameter name that contains `gamma` will be renamed internally to `weight`. Please use a different name to suppress this warning.\n",
      "A parameter name that contains `beta` will be renamed internally to `bias`. Please use a different name to suppress this warning.\n",
      "A parameter name that contains `gamma` will be renamed internally to `weight`. Please use a different name to suppress this warning.\n"
     ]
    },
    {
     "data": {
      "application/vnd.jupyter.widget-view+json": {
       "model_id": "6fc61c75e332474ab18da27a2bab0edb",
       "version_major": 2,
       "version_minor": 0
      },
      "text/plain": [
       "tokenizer_config.json:   0%|          | 0.00/49.0 [00:00<?, ?B/s]"
      ]
     },
     "metadata": {},
     "output_type": "display_data"
    },
    {
     "data": {
      "application/vnd.jupyter.widget-view+json": {
       "model_id": "08b055fc60214330a4dd63a28cb4ef9b",
       "version_major": 2,
       "version_minor": 0
      },
      "text/plain": [
       "vocab.txt:   0%|          | 0.00/996k [00:00<?, ?B/s]"
      ]
     },
     "metadata": {},
     "output_type": "display_data"
    },
    {
     "data": {
      "application/vnd.jupyter.widget-view+json": {
       "model_id": "76fe0592c3fd46e8a88f14260b70875a",
       "version_major": 2,
       "version_minor": 0
      },
      "text/plain": [
       "tokenizer.json:   0%|          | 0.00/1.96M [00:00<?, ?B/s]"
      ]
     },
     "metadata": {},
     "output_type": "display_data"
    }
   ],
   "source": [
    "model_en = SentenceTransformer('paraphrase-MiniLM-L6-v2')\n",
    "model_ar = SentenceTransformer('bert-base-multilingual-cased')"
   ]
  },
  {
   "cell_type": "code",
   "execution_count": 14,
   "metadata": {},
   "outputs": [
    {
     "name": "stderr",
     "output_type": "stream",
     "text": [
      "C:\\Users\\ABC\\anaconda3\\lib\\site-packages\\transformers\\tokenization_utils_base.py:1601: FutureWarning: `clean_up_tokenization_spaces` was not set. It will be set to `True` by default. This behavior will be depracted in transformers v4.45, and will be then set to `False` by default. For more details check this issue: https://github.com/huggingface/transformers/issues/31884\n",
      "  warnings.warn(\n"
     ]
    }
   ],
   "source": [
    "model = SentenceTransformer('paraphrase-MiniLM-L6-v2')"
   ]
  },
  {
   "cell_type": "markdown",
   "metadata": {},
   "source": [
    "<div class=\"alert alert-block alert-warning\">\n",
    "    <h4>Generating Embeddings</h4>\n",
    "</div>"
   ]
  },
  {
   "cell_type": "code",
   "execution_count": 40,
   "metadata": {
    "scrolled": true
   },
   "outputs": [],
   "source": [
    "embeddings_en = model_en.encode(hadith_df_en['Hadith'].tolist())"
   ]
  },
  {
   "cell_type": "code",
   "execution_count": null,
   "metadata": {},
   "outputs": [
    {
     "name": "stderr",
     "output_type": "stream",
     "text": [
      "\n",
      "KeyboardInterrupt\n"
     ]
    }
   ],
   "source": [
    "embeddings_ar = model_ar.encode(hadith_df_ar['Hadith'].tolist())"
   ]
  },
  {
   "cell_type": "code",
   "execution_count": null,
   "metadata": {},
   "outputs": [],
   "source": [
    "embeddings_en = np.array(embeddings_en)\n",
    "embeddings_ar = np.array(embeddings_ar)"
   ]
  },
  {
   "cell_type": "code",
   "execution_count": null,
   "metadata": {},
   "outputs": [],
   "source": [
    "np.save('hadith_embeddings_en.npy', embeddings_en)\n",
    "np.save('hadith_embeddings_ar.npy', embeddings_ar)"
   ]
  },
  {
   "cell_type": "code",
   "execution_count": null,
   "metadata": {},
   "outputs": [],
   "source": []
  },
  {
   "cell_type": "code",
   "execution_count": null,
   "metadata": {},
   "outputs": [],
   "source": []
  },
  {
   "cell_type": "code",
   "execution_count": 14,
   "metadata": {},
   "outputs": [],
   "source": [
    "embeddings = model.encode(hadith_df['Hadith'].tolist())"
   ]
  },
  {
   "cell_type": "code",
   "execution_count": 15,
   "metadata": {},
   "outputs": [],
   "source": [
    "embeddings = np.array(embeddings)"
   ]
  },
  {
   "cell_type": "markdown",
   "metadata": {},
   "source": [
    "<div class=\"alert alert-block alert-success\">\n",
    "    <h4>Saving Embeddings</h4>\n",
    "</div>"
   ]
  },
  {
   "cell_type": "code",
   "execution_count": 16,
   "metadata": {},
   "outputs": [],
   "source": [
    "np.save('hadith_embeddings.npy', embeddings)"
   ]
  },
  {
   "cell_type": "markdown",
   "metadata": {},
   "source": [
    "<div class=\"alert alert-block alert-info\">\n",
    "    <h1>Retrieval System Implementation</h1>\n",
    "</div>\n",
    "\n",
    "<div class=\"alert alert-block alert-warning\">\n",
    "    <h4>Storing Embeddings in a Vector Database (using FAISS)</h4>\n",
    "    <p>FAISS (Facebook AI Similarity Search) is an open-source library developed by Facebook AI Research that is designed for efficient similarity search and clustering of dense vectors. It's particularly useful for large-scale datasets where you need to find the most similar items to a given query.</p>\n",
    "</div>"
   ]
  },
  {
   "cell_type": "markdown",
   "metadata": {},
   "source": [
    "<div class=\"alert alert-block alert-success\">\n",
    "    <h4>Loading Embeddings</h4>\n",
    "</div>"
   ]
  },
  {
   "cell_type": "code",
   "execution_count": null,
   "metadata": {},
   "outputs": [],
   "source": [
    "embeddings_en = np.load('hadith_embeddings_en.npy')\n",
    "embeddings_ar = np.load('hadith_embeddings_ar.npy')"
   ]
  },
  {
   "cell_type": "code",
   "execution_count": null,
   "metadata": {},
   "outputs": [],
   "source": [
    "d = embeddings_en.shape[1]       # dimension of embeddings\n",
    "index = faiss.IndexFlatL2(d)  # L2 distance index (Euclidean, it is used to calculate the similarity between two vectors)\n",
    "index.add(embeddings_en)\n",
    "faiss.write_index(index, 'hadith_faiss_en.index')"
   ]
  },
  {
   "cell_type": "code",
   "execution_count": null,
   "metadata": {},
   "outputs": [],
   "source": [
    "d = embeddings_ar.shape[1]       # dimension of embeddings\n",
    "index = faiss.IndexFlatL2(d)  # L2 distance index (Euclidean, it is used to calculate the similarity between two vectors)\n",
    "index.add(embeddings_ar)\n",
    "faiss.write_index(index, 'hadith_faiss_ar.index')"
   ]
  },
  {
   "cell_type": "code",
   "execution_count": null,
   "metadata": {},
   "outputs": [],
   "source": []
  },
  {
   "cell_type": "code",
   "execution_count": 17,
   "metadata": {},
   "outputs": [],
   "source": [
    "embeddings = np.load('hadith_embeddings.npy')"
   ]
  },
  {
   "cell_type": "markdown",
   "metadata": {},
   "source": [
    "<div class=\"alert alert-block alert-warning\">\n",
    "    <h4>Initializing FAISS</h4>\n",
    "</div>"
   ]
  },
  {
   "cell_type": "code",
   "execution_count": 18,
   "metadata": {},
   "outputs": [],
   "source": [
    "d = embeddings.shape[1]       # dimension of embeddings\n",
    "index = faiss.IndexFlatL2(d)  # L2 distance index (Euclidean, it is used to calculate the similarity between two vectors)"
   ]
  },
  {
   "cell_type": "code",
   "execution_count": 19,
   "metadata": {},
   "outputs": [],
   "source": [
    "index.add(embeddings)"
   ]
  },
  {
   "cell_type": "markdown",
   "metadata": {},
   "source": [
    "<div class=\"alert alert-block alert-success\">\n",
    "    <h4>Saving FAISS</h4>\n",
    "</div>"
   ]
  },
  {
   "cell_type": "code",
   "execution_count": 20,
   "metadata": {},
   "outputs": [],
   "source": [
    "faiss.write_index(index, 'hadith_faiss.index')"
   ]
  },
  {
   "cell_type": "markdown",
   "metadata": {},
   "source": [
    "<div class=\"alert alert-block alert-warning\">\n",
    "    <h4>Querying the Retrieval System</h4>\n",
    "</div>"
   ]
  },
  {
   "cell_type": "code",
   "execution_count": 21,
   "metadata": {},
   "outputs": [],
   "source": [
    "def retrieve_similar_hadiths(query, model, index, hadith_df, k=5):\n",
    "    # Preprocess and embed the query\n",
    "    query_embedding = model.encode([clean_text(query)])\n",
    "\n",
    "    # Search the FAISS index for similar Hadiths\n",
    "    distances, indices = index.search(query_embedding, k)\n",
    "\n",
    "    # Retrieve and print the top-k Hadiths\n",
    "    for i in range(k):\n",
    "        print(f\"Hadith {i+1}:\")\n",
    "        print(hadith_df['Hadith'].iloc[indices[0][i]])\n",
    "        print(f\"Distance: {distances[0][i]}\\n\")"
   ]
  },
  {
   "cell_type": "markdown",
   "metadata": {},
   "source": [
    "<div class=\"alert alert-block alert-success\">\n",
    "    <h4>Loading FAISS</h4>\n",
    "</div>"
   ]
  },
  {
   "cell_type": "code",
   "execution_count": 22,
   "metadata": {},
   "outputs": [],
   "source": [
    "index = faiss.read_index('hadith_faiss.index')"
   ]
  },
  {
   "cell_type": "markdown",
   "metadata": {},
   "source": [
    "<div class=\"alert alert-block alert-info\">\n",
    "    <h1>Testing</h1>\n",
    "</div>"
   ]
  },
  {
   "cell_type": "code",
   "execution_count": 23,
   "metadata": {},
   "outputs": [
    {
     "name": "stdout",
     "output_type": "stream",
     "text": [
      "Hadith 1:\n",
      "Narrated AbuSa'id al-Khudri: The Prophet (ﷺ) said: The Mahdi will be of my stock, and will have a broad forehead a prominent nose. He will fill the earth will equity and justice as it was filled with oppression and tyranny, and he will rule for seven years.\n",
      "Distance: 41.363380432128906\n",
      "\n",
      "Hadith 2:\n",
      "It was narrated that ‘Aishah said: “I could not find him, meaning the Prophet (ﷺ), and he was in Al-Baqi’. He said: “As-salamu ‘alaykum dara qawmin mu’minin. Antum lana faratun wa inna bikum lahiqun. Allahumma la tahrimna ajrahum wa la taftinna ba’dahum. (Peace be upon you, O abode of believing people. You have gone ahead of us and verily we will join you soon. O Allah, do not deprive us of their reward and do not put us to trial after them).”\n",
      "Distance: 41.64872360229492\n",
      "\n",
      "Hadith 3:\n",
      "Narrated AbuUmamah: Abu Sa’id (Al Khudri) reported The Prophet(ﷺ) was asked “Which believers are most perfect in respect of faith? He replied “A man who strives in the path of Allaah with his life and property and a man who worships Allaah in a mountain valley where he protects the people from his evil.””\n",
      "Distance: 43.343109130859375\n",
      "\n",
      "Hadith 4:\n",
      "Abu Huraira reported Allah's Messenger (ﷺ) as saying: He who offers prayer for the dead, for him is (the reward of) one qirat; and he who follows the bier till it is placed in the grave, for him (is the reward of) two qirats. I (Abu Hazim, one of the narrators) said: Abu Huraira, what is a qirat? He said: It is like the hill of Uhud.\n",
      "Distance: 43.358097076416016\n",
      "\n",
      "Hadith 5:\n",
      "Narrated AbuHurayrah: Zaid bin Khalid al Juhani reported that Apostle of Allaah(ﷺ) as saying “He who equips a fighter in Allaah’s path has taken part in the fighting. And he looks after a fighter’s family when he is away has taken part in the fighting.”\n",
      "Distance: 43.45610046386719\n",
      "\n"
     ]
    }
   ],
   "source": [
    "query = \"Al-Mahdi\"\n",
    "retrieve_similar_hadiths(query, model, index, hadith_df)"
   ]
  },
  {
   "cell_type": "code",
   "execution_count": 24,
   "metadata": {},
   "outputs": [
    {
     "name": "stdout",
     "output_type": "stream",
     "text": [
      "Hadith 1:\n",
      "Narrated Abu Ayyub: The Prophet (ﷺ) as saying: If anyone fasts during Ramadan, then follows it with six days in Shawwal, it will be like a perpetual fast.\n",
      "Distance: 28.837890625\n",
      "\n",
      "Hadith 2:\n",
      "It was narrated from Abu Hurairah that the Messenger of Allah (ﷺ) said: ‘Do not anticipate Ramadan by fasting one or two days before, except for a man who has a habitual pattern of fasting, in which case let him fast.”\n",
      "Distance: 30.951108932495117\n",
      "\n",
      "Hadith 3:\n",
      "Abu Ayub narrated that : the Messenger of Allah said: \"Whoever fasts Ramadan, then follows it with six from Shawwal, then that is (equal in reward) to fasting everyday.\"\n",
      "Distance: 34.41267395019531\n",
      "\n",
      "Hadith 4:\n",
      "Narrated Abdullah ibn Abbas: The Prophet (ﷺ) said: Do not fast one day or two days just before Ramadan except in the case of a man who has been in the habit or observing a fast (on that day); and do not fast until you sight it (the moon). Then fast until you sight it. If a cloud appears on that day (i.e. 29th of Ramadan) then complete the number thirty (days) and then end the fasting: a month consists of twenty-nine days.\n",
      "Distance: 34.63372039794922\n",
      "\n",
      "Hadith 5:\n",
      "Abu Hurairah narrated that : the Messenger of Allah said: \"Do no precede the month of Ramadan by fasting a day or two before it, unless it is the case of a man who normally performs some fast, then let him fast it.\"\n",
      "Distance: 34.73879623413086\n",
      "\n"
     ]
    }
   ],
   "source": [
    "query = \"Fasting in Ramadan\"\n",
    "retrieve_similar_hadiths(query, model, index, hadith_df)"
   ]
  },
  {
   "cell_type": "code",
   "execution_count": 25,
   "metadata": {},
   "outputs": [
    {
     "name": "stdout",
     "output_type": "stream",
     "text": [
      "Hadith 1:\n",
      "Abu Huraira reported Allah's Messenger (ﷺ) having said: The time would draw close to the Last Hour and knowledge would decrease. The rest of the hadith is the same.\n",
      "Distance: 45.721771240234375\n",
      "\n",
      "Hadith 2:\n",
      "Narrated AbuHurayrah: The Prophet (ﷺ) said: A time is certainly coming to mankind when only the receiver of usury will remain, and if he does not receive it, some of its vapour will reach him. Ibn Isa said: Some of its dust will reach him.\n",
      "Distance: 48.00752258300781\n",
      "\n",
      "Hadith 3:\n",
      "Abu Hurairah narrated that : Allah's Messenger said: \"Indeed for (the time of) Salat (there is a) beginning and an end. The beginning of the time for the Zuhr prayer is when the sun passes the zenith, and the end of its time is when the time for Asr enters. The beginning of the time for the Asr [prayer] is when its time enters, and the end of its time is when the sun yellows (turns pale). The beginning of the time of Maghrib is when the sun as set, and the end of its time is when the twilight has vanished (i.e., the horizon is invisible because of darkness). The beginning of the time for Isha, the later one, is when the horizon has vanished, and the end of its time is when the night is at its half. The beginning of the time for Fajr is when Fajr begins, and its end is when the sun rises.\"\n",
      "Distance: 49.01483917236328\n",
      "\n",
      "Hadith 4:\n",
      "Narrated Abu Huraira: The Prophet (ﷺ) said, \"The Hour (Last Day) will not be established until (religious) knowledge will betaken away (by the death of religious learned men), earthquakes will be very frequent, time will passquickly, afflictions will appear, murders will increase and money will overflow amongst you.\"\n",
      "Distance: 49.501861572265625\n",
      "\n",
      "Hadith 5:\n",
      "Abdullah b. 'Amr reported the Apostle (ﷺ) saying: The time of the noon prayer (lasts) as long as it is not afternoon, and the time of the afternoon prayer (lasts) as long as the sun does not turn pale and the time of the evening prayer (lasts) as long as the spreading appearance of the redness above the horizon after sunset does not sink down, and the, time of the night prayer (lasts) by midnight and the time of the morning prayer (lasts) as long as the sun dots not rise.\n",
      "Distance: 49.70622634887695\n",
      "\n"
     ]
    }
   ],
   "source": [
    "query = \"End of time\"\n",
    "retrieve_similar_hadiths(query, model, index, hadith_df)"
   ]
  },
  {
   "cell_type": "code",
   "execution_count": null,
   "metadata": {},
   "outputs": [],
   "source": []
  }
 ],
 "metadata": {
  "kaggle": {
   "accelerator": "gpu",
   "dataSources": [
    {
     "datasetId": 5490690,
     "sourceId": 9097970,
     "sourceType": "datasetVersion"
    },
    {
     "datasetId": 5532617,
     "sourceId": 9158044,
     "sourceType": "datasetVersion"
    },
    {
     "isSourceIdPinned": true,
     "modelId": 1902,
     "modelInstanceId": 3900,
     "sourceId": 5112,
     "sourceType": "modelInstanceVersion"
    }
   ],
   "dockerImageVersionId": 30747,
   "isGpuEnabled": true,
   "isInternetEnabled": true,
   "language": "python",
   "sourceType": "notebook"
  },
  "kernelspec": {
   "display_name": "Python 3 (ipykernel)",
   "language": "python",
   "name": "python3"
  },
  "language_info": {
   "codemirror_mode": {
    "name": "ipython",
    "version": 3
   },
   "file_extension": ".py",
   "mimetype": "text/x-python",
   "name": "python",
   "nbconvert_exporter": "python",
   "pygments_lexer": "ipython3",
   "version": "3.8.18"
  }
 },
 "nbformat": 4,
 "nbformat_minor": 4
}
